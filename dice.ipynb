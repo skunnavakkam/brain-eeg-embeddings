{
 "cells": [
  {
   "cell_type": "markdown",
   "metadata": {},
   "source": [
    "This is an implementation of Dice from this paper: https://ieeexplore.ieee.org/stamp/stamp.jsp?tp=&arnumber=10179900. Good paper but no source code, so here is some source code. The eventual goal is to build and train an embeddings model. \n",
    "\n",
    "First is the pre-processing. The paper does the following pre-processing steps:\n",
    "- Butterworth band-pass filter with a frequency range of 0.5 to 45 Hz"
   ]
  },
  {
   "cell_type": "code",
   "execution_count": 1,
   "metadata": {},
   "outputs": [],
   "source": [
    "import mne\n",
    "import numpy as np\n",
    "import torch\n",
    "import pandas as pd\n",
    "import matplotlib.pyplot as plt\n",
    "from IPython.display import Markdown, display\n",
    "import einops\n",
    "from scipy.signal import butter, filtfilt\n",
    "\n",
    "\n",
    "# full_data = torch.tensor([mne.io.read_raw_eeglab(f'ds004504-download/sub-{\"{:03}\".format(i)}/eeg/sub-{\"{:03}\".format(i)}_task-eyesclosed_eeg.set', preload=True).get_data() for i in range(1, 89)])\n",
    "\n",
    "diag = pd.read_csv('ds004504-download/participants.tsv', sep='\\t')[\"Group\"]\n",
    "diags = []\n",
    "all_data = []\n",
    "samples_per_epoch = 500 * 30\n",
    "\n",
    "for i, curr_diag in zip(list(range(1, 89)), diag):\n",
    "    # apply butterworth to 0.5-45 Hz\n",
    "    raw = mne.io.read_raw_eeglab(f'ds004504-download/sub-{\"{:03}\".format(i)}/eeg/sub-{\"{:03}\".format(i)}_task-eyesclosed_eeg.set', preload=True)    \n",
    "    raw.filter(0.5, 45, method='iir', iir_params=dict(order=4, ftype='butter'), verbose=False)    \n",
    "    data = np.asarray(raw.get_data()) # shape: 19, n_samples\n",
    "\n",
    "    # chop up data into 30_000 sample epochs\n",
    "    n_samples = data.shape[1]\n",
    "    n_epochs = n_samples // samples_per_epoch\n",
    "    data = data[:, :n_epochs*samples_per_epoch].reshape(19, n_epochs, samples_per_epoch)\n",
    "    all_data.append(data)\n",
    "\n",
    "    diags.extend([curr_diag]*n_epochs)\n",
    "\n",
    "all_data = np.concatenate(all_data, axis=1)\n",
    "all_data = einops.rearrange(all_data, 'channels epochs samples -> epochs channels samples')\n"
   ]
  },
  {
   "cell_type": "code",
   "execution_count": 2,
   "metadata": {},
   "outputs": [
    {
     "name": "stdout",
     "output_type": "stream",
     "text": [
      "5.26224 GB\n"
     ]
    }
   ],
   "source": [
    "# get number of bytes in all_data\n",
    "print(all_data.nbytes / 1e9, \"GB\")"
   ]
  },
  {
   "cell_type": "code",
   "execution_count": 3,
   "metadata": {},
   "outputs": [
    {
     "name": "stdout",
     "output_type": "stream",
     "text": [
      "(2308, 19, 15000)\n"
     ]
    }
   ],
   "source": [
    "print(all_data.shape)"
   ]
  },
  {
   "cell_type": "code",
   "execution_count": 4,
   "metadata": {},
   "outputs": [
    {
     "name": "stdout",
     "output_type": "stream",
     "text": [
      "0\n",
      "50\n",
      "100\n",
      "150\n",
      "200\n",
      "250\n",
      "300\n",
      "350\n",
      "400\n",
      "450\n",
      "500\n",
      "550\n",
      "600\n",
      "650\n",
      "700\n",
      "750\n",
      "800\n",
      "850\n",
      "900\n",
      "950\n",
      "1000\n",
      "1050\n",
      "1100\n",
      "1150\n",
      "1200\n",
      "1250\n",
      "1300\n",
      "1350\n",
      "1400\n",
      "1450\n",
      "1500\n",
      "1550\n",
      "1600\n",
      "1650\n",
      "1700\n",
      "1750\n",
      "1800\n",
      "1850\n",
      "1900\n",
      "1950\n",
      "2000\n",
      "2050\n",
      "2100\n",
      "2150\n",
      "2200\n",
      "2250\n",
      "2300\n"
     ]
    }
   ],
   "source": [
    "\n",
    "import numpy as np\n",
    "from scipy.signal import butter, filtfilt, welch, csd\n",
    "\n",
    "def butter_bandpass(lowcut, highcut, fs, order=4):\n",
    "    \"\"\"\n",
    "    Designs a Butterworth bandpass filter.\n",
    "\n",
    "    Parameters:\n",
    "    - lowcut: Lower cutoff frequency of the filter.\n",
    "    - highcut: Upper cutoff frequency of the filter.\n",
    "    - fs: Sampling frequency.\n",
    "    - order: Order of the Butterworth filter.\n",
    "\n",
    "    Returns:\n",
    "    - b, a: Numerator (b) and denominator (a) polynomials of the filter.\n",
    "    \"\"\"\n",
    "    nyquist = 0.5 * fs\n",
    "    low = lowcut / nyquist\n",
    "    high = highcut / nyquist\n",
    "    b, a = butter(order, [low, high], btype='band')\n",
    "    return b, a\n",
    "\n",
    "def filter(data, bands, fs, order=4):\n",
    "    \"\"\"\n",
    "    Applies a Butterworth bandpass filter to the data for each specified frequency band.\n",
    "\n",
    "    Parameters:\n",
    "    - data: Input signal data (1D array).\n",
    "    - bands: List of tuples specifying the frequency bands [(low1, high1), (low2, high2), ...].\n",
    "    - fs: Sampling frequency.\n",
    "    - order: Order of the Butterworth filter.\n",
    "\n",
    "    Returns:\n",
    "    - A 2D array where each row corresponds to the filtered signal for each band.\n",
    "    \"\"\"\n",
    "    ret = []\n",
    "\n",
    "    for low, high in bands:\n",
    "        # Design the Butterworth bandpass filter for the given band\n",
    "        b, a = butter_bandpass(low, high, fs, order=order)\n",
    "        # Apply the filter to the data\n",
    "        filtered_signal = filtfilt(b, a, data)\n",
    "        ret.append(filtered_signal)\n",
    "\n",
    "    # Stack the filtered signals along the first axis\n",
    "    return np.stack(ret, axis=0)\n",
    "\n",
    "rbp = []\n",
    "scc = []\n",
    " \n",
    "# 0.13 seconds per iter\n",
    "# since we have 2308 epochs, this will take 2308 * 0.13 = 300\n",
    "# actual runtime is 276 seconds! this is good\n",
    "for idx, data in enumerate(all_data):\n",
    "    # apply bandpass filter\n",
    "    # Delta: 0.5 – 4 Hz\n",
    "    # Theta: 4 – 8 Hz\n",
    "    # Alpha: 8 – 13 Hz\n",
    "    # Beta: 13-25 Hz\n",
    "    # Gamma: 25-45 Hz\n",
    "\n",
    "    bands = [(0.5, 4), (4, 8), (8, 13), (13, 25), (25, 45)]\n",
    "    filtered = filter(data, bands, fs=500) # 5, 19, 15000 (bands, channels, samples)\n",
    "\n",
    "    # break it into one second epochs (time, bands, channels, sampels), with 30 such epochs\n",
    "    n_epochs = samples_per_epoch // 500\n",
    "    filtered = filtered.reshape(5, 19, n_epochs, 500)\n",
    "    filtered = np.moveaxis(filtered, 2, 0)\n",
    "\n",
    "    fs = 500\n",
    "    nperseg = 500\n",
    "    num_channels = 19\n",
    "\n",
    "    freqs, psd = welch(filtered, fs=fs, nperseg=nperseg, axis=-1)\n",
    "    psd_values = np.sum(psd, axis=-1)\n",
    "    relative_band_power = psd_values / np.sum(psd_values, axis=1, keepdims=True)\n",
    "\n",
    "    # Compute SCC values\n",
    "    f_data = np.fft.rfft(filtered, axis=-1)\n",
    "    auto_spectral = np.mean(np.abs(f_data) ** 2, axis=-1)\n",
    "\n",
    "    f_data_expanded1 = f_data[:, :, :, np.newaxis, :]\n",
    "    f_data_expanded2 = f_data[:, :, np.newaxis, :, :]\n",
    "    cross_spectral = f_data_expanded1 * np.conj(f_data_expanded2)\n",
    "    mean_cross_psd = np.mean(np.abs(cross_spectral), axis=-1)\n",
    "\n",
    "    denominator = np.sqrt(auto_spectral[:, :, :, np.newaxis] * auto_spectral[:, :, np.newaxis, :])\n",
    "    coherence_matrix = mean_cross_psd / denominator\n",
    "\n",
    "    diag_indices = np.arange(num_channels)\n",
    "    coherence_matrix[:, :, diag_indices, diag_indices] = 0\n",
    "\n",
    "    coherence_sum = np.sum(coherence_matrix, axis=-1)\n",
    "    scc_values = coherence_sum / (num_channels - 1)\n",
    "\n",
    "    rbp.append(relative_band_power)\n",
    "    scc.append(scc_values)\n",
    "    \n",
    "    if idx % 50 == 0:\n",
    "        print(idx)\n",
    "\n",
    "rbp = np.stack(rbp, axis=0)\n",
    "scc = np.stack(scc, axis=0)"
   ]
  },
  {
   "cell_type": "code",
   "execution_count": 5,
   "metadata": {},
   "outputs": [],
   "source": [
    "pre_reshape_rbp = rbp\n",
    "pre_reshape_scc = scc"
   ]
  },
  {
   "cell_type": "code",
   "execution_count": 21,
   "metadata": {},
   "outputs": [
    {
     "name": "stdout",
     "output_type": "stream",
     "text": [
      "(2308, 30, 5, 19)\n",
      "(2308, 30, 5, 19)\n",
      "torch.Size([2308, 19, 30, 5])\n",
      "torch.Size([2308, 19, 30, 5])\n"
     ]
    }
   ],
   "source": [
    "# reshape to (channels, epochs, bands)\n",
    "\n",
    "print(pre_reshape_rbp.shape)\n",
    "print(pre_reshape_scc.shape)\n",
    "\n",
    "rbp = torch.tensor(einops.rearrange(pre_reshape_rbp, 'num epochs bands channels -> num channels epochs bands')).float()\n",
    "scc = torch.tensor(einops.rearrange(pre_reshape_scc, 'num epochs bands channels -> num channels epochs bands')).float()\n",
    "\n",
    "print(rbp.shape)\n",
    "print(scc.shape)"
   ]
  },
  {
   "cell_type": "code",
   "execution_count": 18,
   "metadata": {},
   "outputs": [
    {
     "data": {
      "image/png": "[encoded data removed]",
      "text/plain": [
       "<Figure size 640x480 with 2 Axes>"
      ]
     },
     "metadata": {},
     "output_type": "display_data"
    },
    {
     "data": {
      "image/png": "[encoded data removed]",
      "text/plain": [
       "<Figure size 640x480 with 2 Axes>"
      ]
     },
     "metadata": {},
     "output_type": "display_data"
    }
   ],
   "source": [
    "plt.imshow(rbp[500, 3, :, :]) \n",
    "plt.colorbar()\n",
    "plt.show()\n",
    "\n",
    "plt.imshow(scc[0, 0, :, :])\n",
    "plt.colorbar()\n",
    "plt.show()"
   ]
  },
  {
   "cell_type": "code",
   "execution_count": 24,
   "metadata": {},
   "outputs": [],
   "source": [
    "import torch.nn as nn\n",
    "from positional_encodings.torch_encodings import PositionalEncoding1D, PositionalEncoding2D, PositionalEncoding3D, Summer\n",
    "import jaxtyping\n",
    "\n",
    "\n",
    "\n",
    "class DiceyModel(nn.Module):\n",
    "    def __init__(self):\n",
    "        super(DiceyModel, self).__init__()\n",
    "        # 30 epochs, 5 bands, 19 channels\n",
    "        # 2d convolution layer, per epoch\n",
    "\n",
    "        self.rbp_conv1 = nn.Conv2d(19, 19, (5, 5), stride=1)\n",
    "        self.scc_conv1 = nn.Conv2d(19, 19, (5, 5), stride=1)\n",
    "\n",
    "        self.positional_encoding = PositionalEncoding1D(26)\n",
    "        \n",
    "\n",
    "    def forward(self, rbp, scc):\n",
    "        rbp = self.rbp_conv1(rbp).squeeze(-1)\n",
    "        scc = self.scc_conv1(scc).squeeze(-1)\n",
    "        print(rbp.shape)\n",
    "\n",
    "        # gelu each\n",
    "        rbp = nn.functional.gelu(rbp)\n",
    "        scc = nn.functional.gelu(scc)\n",
    "\n",
    "        rbp = self.positional_encoding(rbp)\n",
    "        scc = self.positional_encoding(scc)\n",
    "\n",
    "        # apply positional encoding\n",
    "\n",
    "        pass"
   ]
  },
  {
   "cell_type": "code",
   "execution_count": 26,
   "metadata": {},
   "outputs": [
    {
     "name": "stdout",
     "output_type": "stream",
     "text": [
      "torch.Size([1, 19, 26])\n"
     ]
    }
   ],
   "source": [
    "model = DiceyModel()\n",
    "model.forward(rbp[0].unsqueeze(0), scc[0].unsqueeze(0))"
   ]
  }
 ],
 "metadata": {
  "kernelspec": {
   "display_name": "venv",
   "language": "python",
   "name": "python3"
  },
  "language_info": {
   "codemirror_mode": {
    "name": "ipython",
    "version": 3
   },
   "file_extension": ".py",
   "mimetype": "text/x-python",
   "name": "python",
   "nbconvert_exporter": "python",
   "pygments_lexer": "ipython3",
   "version": "3.11.9"
  }
 },
 "nbformat": 4,
 "nbformat_minor": 2
}
